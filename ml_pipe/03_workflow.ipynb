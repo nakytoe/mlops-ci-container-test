{
 "cells": [
  {
   "cell_type": "code",
   "execution_count": null,
   "metadata": {},
   "outputs": [],
   "source": [
    "# | default_exp workflow\n",
    "%load_ext autoreload\n",
    "# automatically reload (local) python modules if they are updated\n",
    "%autoreload 2"
   ]
  },
  {
   "cell_type": "code",
   "execution_count": null,
   "metadata": {},
   "outputs": [],
   "source": [
    "# | hide\n",
    "from nbdev.showdoc import *"
   ]
  },
  {
   "cell_type": "markdown",
   "metadata": {},
   "source": [
    "# Workflow\n",
    "\n",
    "    Define workflow for automatically updating, training and deploying your ML model!\n"
   ]
  },
  {
   "attachments": {},
   "cell_type": "markdown",
   "metadata": {},
   "source": [
    "***input:*** data_etl, model class and evaluation notebooks\n",
    "\n",
    "***output:*** script for executing the ML model update workflow\n",
    "\n",
    "***description:***\n",
    "\n",
    "A ML model update workflow allows you to automatically reload your data, train, evaluate and save your ML model to a model store.\n",
    "\n",
    "Note that by following the notebook templates you have already done most of the work - the notebooks **are** the workflow!\n",
    "\n",
    "So, in this notebook you define a script to automatically execute the other notebooks with the [papermill](https://papermill.readthedocs.io/) tool. Note, that you can input parameters to the notebooks!\n",
    "\n",
    "Edit this and other text cells to describe your project. \n",
    "\n",
    "Remember that you can utilize the `# | export` tag to export cell commands to `your_module_name/workflow.py`."
   ]
  },
  {
   "cell_type": "markdown",
   "metadata": {},
   "source": [
    "## Import relevant modules"
   ]
  },
  {
   "cell_type": "code",
   "execution_count": null,
   "metadata": {},
   "outputs": [],
   "source": [
    "from datetime import datetime\n",
    "import papermill\n",
    "from pathlib import Path\n",
    "import os\n",
    "\n",
    "# your code here"
   ]
  },
  {
   "cell_type": "markdown",
   "metadata": {},
   "source": [
    "## Define notebook parameters"
   ]
  },
  {
   "cell_type": "code",
   "execution_count": null,
   "metadata": {},
   "outputs": [],
   "source": [
    "# Tag this cell as 'parameters' to utilise papermills notebook parameterization!\n",
    "seed = 0\n",
    "setup = \"setup_1a\"\n",
    "# your code here"
   ]
  },
  {
   "attachments": {},
   "cell_type": "markdown",
   "metadata": {},
   "source": [
    "Make direct derivations from the paramerters:"
   ]
  },
  {
   "cell_type": "code",
   "execution_count": null,
   "metadata": {},
   "outputs": [],
   "source": [
    "# your code here"
   ]
  },
  {
   "attachments": {},
   "cell_type": "markdown",
   "metadata": {},
   "source": [
    "## Define workflow"
   ]
  },
  {
   "cell_type": "code",
   "execution_count": null,
   "metadata": {},
   "outputs": [],
   "source": [
    "\"\"\"\n",
    "A workflow to re-run your machine learning workflow automatically.\n",
    "\n",
    "This example script will\n",
    "- rebuild your python module\n",
    "- run data_etl notebook to reload and clean data\n",
    "- run model_class notebook to sw test your model\n",
    "- run train_test_val notebook to train and evaluate your model with full data,\n",
    "    and save it for further use\n",
    "\n",
    "Feel free to edit!\n",
    "\"\"\"\n",
    "\n",
    "# create version name for model and backup folder to save notebooks to after running them\n",
    "\n",
    "# WARNING: make sure to commit all changes before versioning a model,\n",
    "# to be able to match the model to source code version!\n",
    "model_timestamp = datetime.now()\n",
    "time = (\n",
    "    str(model_timestamp)\n",
    "    .replace(\"-\", \"\")\n",
    "    .replace(\" \", \"_\")\n",
    "    .replace(\":\", \"\")\n",
    "    .replace(\".\", \"_\")\n",
    ")\n",
    "branch = os.popen(\"git symbolic-ref -q --short HEAD\").read().strip()\n",
    "head = os.popen(\"git rev-parse --short HEAD\").read().strip()\n",
    "\n",
    "model_version = \"_\".join([time, branch, head, setup])\n",
    "\n",
    "# create backup folder if it does not exist\n",
    "cwd = Path().cwd()\n",
    "backup_path = cwd.parent / \"local_data\" / \"ml_pipe_notebook_backups\" / model_version\n",
    "\n",
    "try:\n",
    "    backup_path.mkdir(parents=True, exist_ok=False)\n",
    "except FileExistsError:  # do not overwrite\n",
    "    pass\n",
    "\n",
    "# make sure changes are updated to module\n",
    "os.system(\"nbdev_export\")\n",
    "\n",
    "# run workflow\n",
    "for notebook in [\n",
    "    \"00_data_etl.ipynb\",\n",
    "    \"01_model_class.ipynb\",\n",
    "    \"02_train_test_validate.ipynb\",\n",
    "]:\n",
    "    papermill.execute_notebook(\n",
    "        notebook,  # this notebook will be executed\n",
    "        backup_path\n",
    "        / (\"_\" + notebook),  # this is where the executed notebook will be saved\n",
    "        # (notebooks named with '_' -prefix are ignored by nbdev!)\n",
    "        parameters={\n",
    "            \"seed\": 1,\n",
    "            \"model_version\": model_version,\n",
    "        },  # you can change notebook parameters\n",
    "    )"
   ]
  }
 ],
 "metadata": {
  "kernelspec": {
   "display_name": "Python 3",
   "language": "python",
   "name": "python3"
  },
  "language_info": {
   "codemirror_mode": {
    "name": "ipython",
    "version": 3
   },
   "file_extension": ".py",
   "mimetype": "text/x-python",
   "name": "python",
   "nbconvert_exporter": "python",
   "pygments_lexer": "ipython3",
   "version": "3.10.6 (main, Nov 14 2022, 16:10:14) [GCC 11.3.0]"
  },
  "vscode": {
   "interpreter": {
    "hash": "e7370f93d1d0cde622a1f8e1c04877d8463912d04d973331ad4851f04de6915a"
   }
  }
 },
 "nbformat": 4,
 "nbformat_minor": 4
}
