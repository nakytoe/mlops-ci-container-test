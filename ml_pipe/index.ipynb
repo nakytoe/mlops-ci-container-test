{
 "cells": [
  {
   "cell_type": "code",
   "execution_count": null,
   "metadata": {},
   "outputs": [
    {
     "data": {
      "application/javascript": "\n            setTimeout(function() {\n                var nbb_cell_id = 1;\n                var nbb_unformatted_code = \"# hide\\n%load_ext nb_black\\n# nb_black if using jupyter\";\n                var nbb_formatted_code = \"# hide\\n%load_ext nb_black\\n# nb_black if using jupyter\";\n                var nbb_cells = Jupyter.notebook.get_cells();\n                for (var i = 0; i < nbb_cells.length; ++i) {\n                    if (nbb_cells[i].input_prompt_number == nbb_cell_id) {\n                        if (nbb_cells[i].get_text() == nbb_unformatted_code) {\n                             nbb_cells[i].set_text(nbb_formatted_code);\n                        }\n                        break;\n                    }\n                }\n            }, 500);\n            ",
      "text/plain": [
       "<IPython.core.display.Javascript object>"
      ]
     },
     "metadata": {},
     "output_type": "display_data"
    }
   ],
   "source": [
    "# | hide"
   ]
  },
  {
   "attachments": {},
   "cell_type": "markdown",
   "metadata": {},
   "source": [
    "# Index (This is a default file required by nbdev)\n",
    "\n",
    "\n",
    "> This notebook can be used as an 'interactive' documentation of your ml model. It can also be utilized for generating docs from the notebooks. "
   ]
  }
 ],
 "metadata": {
  "kernelspec": {
   "display_name": "python38myenv",
   "language": "python",
   "name": "python38myenv"
  }
 },
 "nbformat": 4,
 "nbformat_minor": 4
}
