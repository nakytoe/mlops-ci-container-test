{
 "cells": [
  {
   "attachments": {},
   "cell_type": "markdown",
   "metadata": {},
   "source": [
    "# EXAMPLE: Updating model to pickle model store\n",
    "\n",
    "> Example of creating, training and testing a machine learning model and storing the trained model to pickle model store."
   ]
  },
  {
   "cell_type": "code",
   "execution_count": 109,
   "metadata": {},
   "outputs": [],
   "source": [
    "import os\n",
    "import sys\n",
    "from pathlib import Path\n",
    "\n",
    "import logging\n",
    "import pickle\n",
    "from typing import List\n",
    "import pandas as pd\n",
    "from sklearn.metrics import classification_report\n",
    "from sklearn.model_selection import train_test_split\n",
    "from sklearn.tree import DecisionTreeClassifier\n",
    "import datetime as dt"
   ]
  },
  {
   "attachments": {},
   "cell_type": "markdown",
   "metadata": {},
   "source": [
    "Local imports:"
   ]
  },
  {
   "cell_type": "code",
   "execution_count": 110,
   "metadata": {},
   "outputs": [],
   "source": [
    "current = os.path.abspath('')\n",
    "parent_directory = os.path.dirname(current)\n",
    "sys.path.append(parent_directory)\n",
    "from model_store import PickleModelStore, ModelSchemaContainer"
   ]
  },
  {
   "attachments": {},
   "cell_type": "markdown",
   "metadata": {},
   "source": [
    "Data:"
   ]
  },
  {
   "cell_type": "code",
   "execution_count": 111,
   "metadata": {},
   "outputs": [],
   "source": [
    "# Load sample dataset\n",
    "df = pd.read_csv('iris_dataset.csv')\n",
    "y = df.pop('variety')\n",
    "X = df\n",
    "\n",
    "# Split data\n",
    "X_train, X_test, y_train, y_test = train_test_split(X, y, test_size=0.2)"
   ]
  },
  {
   "attachments": {},
   "cell_type": "markdown",
   "metadata": {},
   "source": [
    "Model:"
   ]
  },
  {
   "cell_type": "code",
   "execution_count": 112,
   "metadata": {},
   "outputs": [],
   "source": [
    "# Create linear regression object\n",
    "classifier = DecisionTreeClassifier(criterion=\"entropy\")\n",
    "\n",
    "# Train the model using the training sets\n",
    "classifier.fit(X_train, y_train)\n",
    "y_pred = classifier.predict(X_test)"
   ]
  },
  {
   "attachments": {},
   "cell_type": "markdown",
   "metadata": {},
   "source": [
    "Train, test:"
   ]
  },
  {
   "cell_type": "code",
   "execution_count": 113,
   "metadata": {},
   "outputs": [],
   "source": [
    "# Metrics\n",
    "# Train/test/val metrics to be passed on to api & monitoring\n",
    "metrics_raw = classification_report(y_test, y_pred, output_dict=True)\n",
    "\n",
    "# reformat metrics to api/metrics format\n",
    "metrics_parsed = {}\n",
    "for feature in list(metrics_raw.keys()):\n",
    "    if isinstance(metrics_raw[feature], dict):\n",
    "        for metricname in list(metrics_raw[feature].keys()):\n",
    "            metrics_parsed[feature + \"_\" + metricname] = {\n",
    "                \"value\": metrics_raw[feature][metricname],\n",
    "                \"description\": \"\",\n",
    "                \"type\": \"numeric\",\n",
    "            }\n",
    "model_timestamp = dt.datetime.now()\n",
    "# we can also pass metadata\n",
    "metrics_parsed[\"model_update_time\"] = {\n",
    "    \"value\": model_timestamp,\n",
    "    \"description\": \"\",\n",
    "    \"type\": \"numeric\",\n",
    "}"
   ]
  },
  {
   "cell_type": "code",
   "execution_count": 114,
   "metadata": {},
   "outputs": [],
   "source": [
    "# with pickle, always include model version!\n",
    "# WARNING: make sure to commit all changes before versioning a model,\n",
    "# to be able to match the model to source code version!\n",
    "time = (\n",
    "    str(model_timestamp)\n",
    "    .replace(\"-\", \"\")\n",
    "    .replace(\" \", \"_\")\n",
    "    .replace(\":\", \"\")\n",
    "    .replace(\".\", \"_\")\n",
    ")\n",
    "branch = os.popen(\"git symbolic-ref -q --short HEAD\").read().strip()\n",
    "head = os.popen(\"git rev-parse --short HEAD\").read().strip()\n",
    "setup = \"setup_1a\" # for identifying parameters used\n",
    "\n",
    "model_version = \"_\".join([time, branch, head, setup])\n",
    "metrics_parsed[\"model_version\"] = {\n",
    "    \"value\": {\"version\":model_version},\n",
    "    \"description\": \"model timestamp, branch, head commit hash and setup id (optional)\",\n",
    "    \"type\": \"info\"\n",
    "}"
   ]
  },
  {
   "attachments": {},
   "cell_type": "markdown",
   "metadata": {},
   "source": [
    "Schema:"
   ]
  },
  {
   "cell_type": "code",
   "execution_count": 115,
   "metadata": {},
   "outputs": [],
   "source": [
    "# Use dtypes to determine api request and response models\n",
    "dtypes_x = [{\"name\": c, \"type\": X[c].dtype.type} for c in X.columns]\n",
    "dtypes_y = [{\"name\": y.name, \"type\": y.dtype.type}]\n"
   ]
  },
  {
   "attachments": {},
   "cell_type": "markdown",
   "metadata": {},
   "source": [
    "Save to model store:"
   ]
  },
  {
   "cell_type": "code",
   "execution_count": 116,
   "metadata": {},
   "outputs": [],
   "source": [
    "# Save two copies of the model pickle: \n",
    "# one named with version info for version control and \n",
    "# another named 'latest' for convenience of use.\n",
    "pickle_name_version = model_version + '.pickle'\n",
    "pickle_name_latest = \"bundle_latest.pickle\"\n",
    "\n",
    "pickle_store_path = parent_directory + \"/local_data/pickle_store\"\n",
    "if not os.path.exists(pickle_store_path): os.mkdir(pickle_store_path)\n",
    "\n",
    "# Create and save pickles\n",
    "for filename in [pickle_name_latest, pickle_name_version]:\n",
    "    model_store = PickleModelStore(bundle_uri=pickle_store_path + \"/\" + filename)\n",
    "    model_store.persist(classifier, dtypes_x, dtypes_y, metrics_parsed)"
   ]
  },
  {
   "attachments": {},
   "cell_type": "markdown",
   "metadata": {},
   "source": [
    "Now if you should be able to run the api with `MODEL_STORE=pickle` environment variable set and load the just-pickled model."
   ]
  }
 ],
 "metadata": {
  "kernelspec": {
   "display_name": "Python 3",
   "language": "python",
   "name": "python3"
  },
  "language_info": {
   "codemirror_mode": {
    "name": "ipython",
    "version": 3
   },
   "file_extension": ".py",
   "mimetype": "text/x-python",
   "name": "python",
   "nbconvert_exporter": "python",
   "pygments_lexer": "ipython3",
   "version": "3.10.6 (main, Nov 14 2022, 16:10:14) [GCC 11.3.0]"
  },
  "vscode": {
   "interpreter": {
    "hash": "e7370f93d1d0cde622a1f8e1c04877d8463912d04d973331ad4851f04de6915a"
   }
  }
 },
 "nbformat": 4,
 "nbformat_minor": 0
}
