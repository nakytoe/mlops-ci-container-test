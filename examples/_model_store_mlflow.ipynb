{
 "cells": [
  {
   "attachments": {},
   "cell_type": "markdown",
   "metadata": {},
   "source": [
    "# EXAMPLE: Updating model to MLFlow model store\n",
    "\n",
    "> Example of creating, training and testing a machine learning model and storing the trained model to ML Flow model store."
   ]
  },
  {
   "cell_type": "code",
   "execution_count": null,
   "metadata": {
    "vscode": {
     "languageId": "python"
    }
   },
   "outputs": [],
   "source": [
    "import mlflow as mlflow\n",
    "import pandas as pd\n",
    "from matplotlib import pyplot as plt\n",
    "from mlflow.models import infer_signature\n",
    "from sklearn.metrics import classification_report\n",
    "from sklearn.model_selection import train_test_split\n",
    "from sklearn.tree import DecisionTreeClassifier"
   ]
  },
  {
   "cell_type": "code",
   "execution_count": null,
   "metadata": {
    "vscode": {
     "languageId": "python"
    }
   },
   "outputs": [],
   "source": [
    "model_name = \"model\"\n",
    "run_name = \"iris-experiment\"\n",
    "\n",
    "# Initiate automatic logging\n",
    "mlflow.autolog()\n",
    "\n",
    "# Tag experiment\n",
    "mlflow.set_experiment_tag('dataset', 'iris')\n",
    "# OR use env variable export MLFLOW_TRACKING_URI=sqlite:////mlflow.sqlite & MLFLOW_REGISTRY_URI\n",
    "mlflow.set_tracking_uri('file:../local_data/mlruns')\n",
    "mlflow.set_registry_uri('sqlite:///../local_data/mlflow.sqlite')"
   ]
  },
  {
   "cell_type": "code",
   "execution_count": null,
   "metadata": {
    "vscode": {
     "languageId": "python"
    }
   },
   "outputs": [],
   "source": [
    "# Load sample dataset\n",
    "df = pd.read_csv('iris_dataset.csv')\n",
    "y = df.pop('variety')\n",
    "X = df\n",
    "\n",
    "# Split data\n",
    "X_train, X_test, y_train, y_test = train_test_split(X, y, test_size=0.2)"
   ]
  },
  {
   "cell_type": "code",
   "execution_count": null,
   "metadata": {
    "vscode": {
     "languageId": "python"
    }
   },
   "outputs": [],
   "source": [
    "# Start run and train a model\n",
    "# Note: You could for example create multiple runs with different hyperparameters\n",
    "# Then you could compare them in mlflow ui.\n",
    "with mlflow.start_run(run_name=run_name):\n",
    "\n",
    "    print(\"Start new experiment run and train model using iris dataset.\")\n",
    "\n",
    "    # Create decision tree classifier\n",
    "    classifier = DecisionTreeClassifier(criterion='entropy')\n",
    "\n",
    "    # Train the model using the training sets\n",
    "    classifier.fit(X_train, y_train)\n",
    "    y_pred = classifier.predict(X_test)\n",
    "\n",
    "    print(\"Model training complete.\")\n",
    "\n",
    "    # Metrics\n",
    "    metrics_data = classification_report(y_test, y_pred, output_dict=True)\n",
    "\n",
    "    # Infer schema for model\n",
    "    signature = infer_signature(X_train, y_train)\n",
    "\n",
    "    # You can log whatever you want, for example subset of data for testing\n",
    "    mlflow.log_text(\"Hello world!\", 'custom_log.txt')\n",
    "\n",
    "    # store figure\n",
    "\n",
    "    forest_importances = pd.Series(classifier.feature_importances_, index=classifier.feature_names_in_)\n",
    "\n",
    "    fig, ax = plt.subplots()\n",
    "    forest_importances.plot.bar(ax=ax)\n",
    "    ax.set_title(\"Feature importances\")\n",
    "    fig.tight_layout()\n",
    "    mlflow.log_figure(fig, 'feature_importances.png')\n",
    "\n",
    "    # Model registry does not work with file store\n",
    "    mlflow.sklearn.log_model(\n",
    "        classifier, model_name, signature=signature, registered_model_name=model_name\n",
    "    )\n",
    "    print(\"Model {} saved in run {}\".format(model_name, mlflow.active_run().info.run_uuid))"
   ]
  },
  {
   "attachments": {},
   "cell_type": "markdown",
   "metadata": {},
   "source": [
    "Now if you should be able to run the api with `MODEL_STORE=mlflow` environment variable set and load the just-pickled model."
   ]
  }
 ],
 "metadata": {
  "kernelspec": {
   "display_name": "Python 3",
   "language": "python",
   "name": "python3"
  }
 },
 "nbformat": 4,
 "nbformat_minor": 0
}
